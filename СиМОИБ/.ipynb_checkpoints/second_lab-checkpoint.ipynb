{
 "cells": [
  {
   "cell_type": "markdown",
   "id": "e237fdb2-5e04-457e-827f-6c975e982fbf",
   "metadata": {},
   "source": [
    "### Шифр Скитала"
   ]
  },
  {
   "cell_type": "code",
   "execution_count": 225,
   "id": "61f997f8-aef1-4ef1-8560-5343649615ac",
   "metadata": {},
   "outputs": [],
   "source": [
    "import numpy as np\n",
    "import seaborn as sns\n",
    "import random,string,math\n",
    "import re"
   ]
  },
  {
   "cell_type": "code",
   "execution_count": 450,
   "id": "758eb811-da0b-4cc3-8197-910e36b02c4c",
   "metadata": {},
   "outputs": [],
   "source": [
    "def devider(string_to_dev,n,m):\n",
    "    string_to_dev = string_to_dev.replace(' ', '')\n",
    "    \n",
    "    parts = len(string_to_dev)%(n*m)\n",
    "    if parts==0:\n",
    "        parts = int(len(string_to_dev)/(n*m))\n",
    "        string_to_dev = [string_to_dev[i:i+parts] for i in range(0, len(string_to_dev), parts)]\n",
    "        return string_to_dev\n",
    "    else:\n",
    "        \n",
    "        ell_in_cell = int(math.ceil(len(string_to_dev)/(n*m)))\n",
    "        number_of_cells = n*m\n",
    "        dev_str = ['' for i in range(number_of_cells)]\n",
    "        \n",
    "        for i in range(number_of_cells):\n",
    "            dev_str[i] = string_to_dev[0:ell_in_cell]\n",
    "            string_to_dev = string_to_dev[ell_in_cell:]\n",
    "        \n",
    "    return dev_str"
   ]
  },
  {
   "cell_type": "code",
   "execution_count": 470,
   "id": "78ffb827-03de-4e22-9883-053c0d751ecb",
   "metadata": {},
   "outputs": [],
   "source": [
    "def encrypt(my_string, n, m):\n",
    "        #answ_matrix = np.full((n,m),'dddddd', dtype='str')\n",
    "        answ_matrix = [['' for j in range(m)] for i in range(n)]\n",
    "        my_string = my_string.replace(' ', '')\n",
    "        if len(my_string)>(n*m):\n",
    "            my_string = devider(my_string,n,m)\n",
    "            \n",
    "        elif len(my_string)<(n*m):\n",
    "            for i in range((n*m)-len(my_string)):\n",
    "                my_string = my_string+random.choice(string.ascii_lowercase)                \n",
    "            my_string = list(my_string)\n",
    "        \n",
    "        else:\n",
    "            my_string = list(my_string)\n",
    "        \n",
    "        a = 0        \n",
    "        for i in range(n):\n",
    "            for g in range(m):                 \n",
    "                answ_matrix[i][g] = my_string[a]\n",
    "                a = a+1\n",
    "        \n",
    "        encrypted_string = ''\n",
    "        for i in range(m):\n",
    "            for j in range(n):\n",
    "                encrypted_string = encrypted_string+answ_matrix[j][i]\n",
    "            \n",
    "        return encrypted_string"
   ]
  },
  {
   "cell_type": "code",
   "execution_count": 497,
   "id": "7db37a9d-3236-47a3-b03c-a7a18b480be6",
   "metadata": {},
   "outputs": [],
   "source": [
    "#с меньшим кол-вом работвет и с равным\n",
    "#не работает с большим (логика разбиения была переписана!)\n",
    "def decode(enc_string,n,m):\n",
    "    #answ_matrix = np.zeros((n,m), dtype='str')\n",
    "    answ_matrix = [['' for j in range(m)] for i in range(n)]\n",
    "    decoded_str = answ_matrix[0][0]\n",
    "    \n",
    "    for i in range(m): #итерируюсь по столбцам\n",
    "        for j in range(n): # по строке\n",
    "            answ_matrix[j][i] = enc_string[j]\n",
    "        enc_string = enc_string[n:]\n",
    "    \n",
    "    for i in answ_matrix:\n",
    "        for j in i:\n",
    "            decoded_str = decoded_str+j\n",
    "        \n",
    "    return decoded_str"
   ]
  },
  {
   "cell_type": "code",
   "execution_count": 498,
   "id": "b9fec748-354f-4f70-bf9c-bf4dbd1fe02b",
   "metadata": {},
   "outputs": [],
   "source": [
    "def brute_force(password,encrypt_pass):\n",
    "    n = [i for i in range(1,len(encrypt_pass))]\n",
    "    m = [i for i in range(1,len(encrypt_pass))]\n",
    "    \n",
    "    for i in n:\n",
    "        for j in m:\n",
    "            if decode(encrypt_pass,i,j)==password:\n",
    "                break\n",
    "    "
   ]
  },
  {
   "cell_type": "code",
   "execution_count": 507,
   "id": "1b3c3d66-4009-4a5a-88d1-1ff2bd54268d",
   "metadata": {},
   "outputs": [],
   "source": [
    "a = encrypt('one',2,2)"
   ]
  },
  {
   "cell_type": "code",
   "execution_count": 508,
   "id": "c5d70d93-aec2-4327-b2e6-80800f733305",
   "metadata": {},
   "outputs": [
    {
     "data": {
      "text/plain": [
       "'oenm'"
      ]
     },
     "execution_count": 508,
     "metadata": {},
     "output_type": "execute_result"
    }
   ],
   "source": [
    "a"
   ]
  },
  {
   "cell_type": "code",
   "execution_count": 509,
   "id": "daf6ce32-98cb-43f5-a60f-ded399751725",
   "metadata": {},
   "outputs": [
    {
     "name": "stdout",
     "output_type": "stream",
     "text": [
      "onem\n"
     ]
    }
   ],
   "source": [
    "print(decode(a,2,2))"
   ]
  },
  {
   "cell_type": "code",
   "execution_count": null,
   "id": "558a86ea-4308-4237-8db8-b3b61ec186ed",
   "metadata": {},
   "outputs": [],
   "source": []
  },
  {
   "cell_type": "code",
   "execution_count": null,
   "id": "10ad5804-5f61-41cd-ab63-4efc48efa16e",
   "metadata": {},
   "outputs": [],
   "source": []
  },
  {
   "cell_type": "code",
   "execution_count": null,
   "id": "c50296e7-1e9f-4341-8353-e53a87a8adfc",
   "metadata": {},
   "outputs": [],
   "source": []
  },
  {
   "cell_type": "code",
   "execution_count": null,
   "id": "fa76fbda-df10-4011-bc3d-4712ced02371",
   "metadata": {},
   "outputs": [],
   "source": []
  },
  {
   "cell_type": "code",
   "execution_count": null,
   "id": "1e51a8c4-fa1a-471e-a147-f176fa804aa5",
   "metadata": {},
   "outputs": [],
   "source": []
  },
  {
   "cell_type": "code",
   "execution_count": null,
   "id": "c6fe3d02-8e62-4b20-879e-f5eb9b4479a9",
   "metadata": {},
   "outputs": [],
   "source": []
  }
 ],
 "metadata": {
  "kernelspec": {
   "display_name": "Python 3 (ipykernel)",
   "language": "python",
   "name": "python3"
  },
  "language_info": {
   "codemirror_mode": {
    "name": "ipython",
    "version": 3
   },
   "file_extension": ".py",
   "mimetype": "text/x-python",
   "name": "python",
   "nbconvert_exporter": "python",
   "pygments_lexer": "ipython3",
   "version": "3.8.10"
  }
 },
 "nbformat": 4,
 "nbformat_minor": 5
}
