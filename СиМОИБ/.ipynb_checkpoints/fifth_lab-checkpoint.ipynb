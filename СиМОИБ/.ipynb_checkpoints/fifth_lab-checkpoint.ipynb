{
 "cells": [
  {
   "cell_type": "markdown",
   "id": "8515e417-4060-4de4-9e8a-5becb6b4d303",
   "metadata": {},
   "source": [
    "### асимметричное шифрование и эл. цифр. подпись"
   ]
  },
  {
   "cell_type": "code",
   "execution_count": 11,
   "id": "567f568c-fa4c-43ed-8484-0fc665b47c06",
   "metadata": {},
   "outputs": [],
   "source": [
    "#1.из множества всех секретных ключей данной функции с равной вер. выбираем 1"
   ]
  },
  {
   "cell_type": "code",
   "execution_count": 12,
   "id": "8caf39c6-7066-419f-a9bd-997e3b4c4ebe",
   "metadata": {},
   "outputs": [],
   "source": [
    "#2.формируем public key на основе s_key."
   ]
  },
  {
   "cell_type": "code",
   "execution_count": 13,
   "id": "233d8ef2-8ffc-43dc-8ac4-6eaaedfe24f8",
   "metadata": {},
   "outputs": [],
   "source": [
    "#3.ЭЦП - контрольная сумма вычисл. опред образом. для текста \n",
    "#(пример с МОСКВА) - каждой букве  = номер в алф +10(чтоб все были 2-х значные)\n",
    "#                    группировка кодов букв по 2 : МО СК ВА\n",
    "#                    шифроывние через простую функцию использую s_key = получение контрольной суммы текста\n",
    "#                    проверка правильности используя я p_key"
   ]
  },
  {
   "cell_type": "code",
   "execution_count": 14,
   "id": "f4a147fa-6b94-4dee-9da5-abe06696fac1",
   "metadata": {},
   "outputs": [],
   "source": [
    "#4."
   ]
  },
  {
   "cell_type": "code",
   "execution_count": null,
   "id": "d80b57cb-b4ec-483f-afad-fc267c9d09fc",
   "metadata": {},
   "outputs": [
    {
     "name": "stdout",
     "output_type": "stream",
     "text": [
      "RSA Encrypter/ Decrypter\n"
     ]
    },
    {
     "name": "stdin",
     "output_type": "stream",
     "text": [
      "Enter a prime number (17, 19, 23, etc):  7907\n",
      "Enter another prime number (Not one you entered above):  7919\n"
     ]
    },
    {
     "name": "stdout",
     "output_type": "stream",
     "text": [
      "Generating your public/private keypairs now . . .\n",
      "Your public key is  (57624333, 62615533)  and your private key is  (5407037, 62615533)\n"
     ]
    },
    {
     "name": "stdin",
     "output_type": "stream",
     "text": [
      "Enter a message to encrypt with your private key:  r\n"
     ]
    }
   ],
   "source": [
    "import random\n",
    "\n",
    "\n",
    "'''\n",
    "Алгоритм Евклида для определения наибольшего общего делителя\n",
    "Используйте итерацию, чтобы ускорить работу с большими целыми числами\n",
    "'''\n",
    "def gcd(a, b):\n",
    "    while(b != 0):\n",
    "        a, b = b, a % b\n",
    "    return a\n",
    "\n",
    "'''\n",
    "Расширенный алгоритм Евклида для нахождения мультипликативного обратного двух чисел\n",
    "находим G\n",
    "'''\n",
    "def multiplicative_inverse(e,r):\n",
    "    for i in range(r):\n",
    "        if((e*i)%r == 1):\n",
    "            return i\n",
    "\n",
    "def is_prime(n):\n",
    "    if n % 2 == 0:\n",
    "        return n == 2\n",
    "    d = 3\n",
    "    while d * d <= n and n % d != 0:\n",
    "        d += 2\n",
    "    return d * d > n\n",
    "\n",
    "#генерация всех ключей(public and private)\n",
    "def generate_keypair(p, q):\n",
    "    if not (is_prime(p) and is_prime(q)):\n",
    "        raise ValueError('Both numbers must be prime.')\n",
    "    elif p == q:\n",
    "        raise ValueError('p and q cannot be equal')\n",
    "    n = p * q\n",
    "\n",
    "    #Phi is the totient of n\n",
    "    phi = (p-1) * (q-1)\n",
    "\n",
    "    #Choose an integer e such that e and phi(n) are coprime(взаимно простые)\n",
    "    e = random.randrange(1, phi)\n",
    "\n",
    "    #Use Euclid's Algorithm to verify that e and phi(n) are comprime\n",
    "    #используем алгоритм евклида для проверки e и phi(n) на взаимную простоту\n",
    "    g = gcd(e, phi)\n",
    "    while g != 1:\n",
    "        e = random.randrange(1, phi)\n",
    "        g = gcd(e, phi)\n",
    "\n",
    "    #Use Extended Euclid's Algorithm to generate the private key\n",
    "    d = multiplicative_inverse(e, phi)\n",
    "    \n",
    "    #Return public and private keypair\n",
    "    #Public key is (e, n) and private key is (d, n)\n",
    "    return ((e, n), (d, n))\n",
    "\n",
    "def encrypt(pk, plaintext):\n",
    "    #Unpack the key into it's components\n",
    "    key, n = pk\n",
    "    #Convert each letter in the plaintext to numbers based on the character using a^b mod m\n",
    "    cipher = [(ord(char) ** key) % n for char in plaintext]\n",
    "    #Return the array of bytes\n",
    "    return cipher\n",
    "\n",
    "def decrypt(pk, ciphertext):\n",
    "    #Unpack the key into its components\n",
    "    key, n = pk\n",
    "    #Generate the plaintext based on the ciphertext and key using a^b mod m\n",
    "    plain = [chr((char ** key) % n) for char in ciphertext]\n",
    "    #Return the array of bytes as a string\n",
    "    return ''.join(plain)\n",
    "    \n",
    "\n",
    "if __name__ == '__main__':\n",
    "    print (\"RSA Encrypter/ Decrypter\")\n",
    "    p = int(input(\"Enter a prime number (17, 19, 23, etc): \"))\n",
    "    q = int(input(\"Enter another prime number (Not one you entered above): \"))\n",
    "    print (\"Generating your public/private keypairs now . . .\")\n",
    "    public, private = generate_keypair(p, q)\n",
    "    print (\"Your public key is \", public ,\" and your private key is \", private)\n",
    "    message = input(\"Enter a message to encrypt with your private key: \")\n",
    "    encrypted_msg = encrypt(private, message)\n",
    "    print (\"Your encrypted message is: \")\n",
    "    print (''.join(map(lambda x: str(x), encrypted_msg)))\n",
    "    print (\"Decrypting message with public key \", public ,\" . . .\")\n",
    "    print (\"Your message is:\")\n",
    "    print (decrypt(public, encrypted_msg))"
   ]
  },
  {
   "cell_type": "code",
   "execution_count": null,
   "id": "eb86bd55-1c65-4191-ad92-6e9eb8e91d13",
   "metadata": {},
   "outputs": [],
   "source": []
  },
  {
   "cell_type": "code",
   "execution_count": null,
   "id": "8e79c4c6-a74b-4178-b74b-02112de27ceb",
   "metadata": {},
   "outputs": [],
   "source": []
  },
  {
   "cell_type": "code",
   "execution_count": null,
   "id": "d8d8ee4d-42d3-4500-adb9-33164193c565",
   "metadata": {},
   "outputs": [],
   "source": []
  }
 ],
 "metadata": {
  "kernelspec": {
   "display_name": "Python 3 (ipykernel)",
   "language": "python",
   "name": "python3"
  },
  "language_info": {
   "codemirror_mode": {
    "name": "ipython",
    "version": 3
   },
   "file_extension": ".py",
   "mimetype": "text/x-python",
   "name": "python",
   "nbconvert_exporter": "python",
   "pygments_lexer": "ipython3",
   "version": "3.8.10"
  }
 },
 "nbformat": 4,
 "nbformat_minor": 5
}
