{
 "cells": [
  {
   "cell_type": "markdown",
   "id": "321ce7e1-b210-489b-9220-4a9817e63482",
   "metadata": {},
   "source": [
    "### Вариант 20"
   ]
  },
  {
   "cell_type": "code",
   "execution_count": 116,
   "id": "14b32de3-4844-4eb6-ba92-7e8b9410e8fc",
   "metadata": {},
   "outputs": [],
   "source": [
    "import random"
   ]
  },
  {
   "cell_type": "code",
   "execution_count": 117,
   "id": "7c5b7570-61d1-4397-b868-fee00c8eb747",
   "metadata": {},
   "outputs": [],
   "source": [
    "def get_start_value(x):\n",
    "    while(True):\n",
    "        a = random.randint(0,x-1)\n",
    "        if isPrime(a)==True:\n",
    "            return a"
   ]
  },
  {
   "cell_type": "code",
   "execution_count": 118,
   "id": "6c0a6973-7005-47fb-894e-41a7971e599b",
   "metadata": {},
   "outputs": [],
   "source": [
    "def get_key(x,g,p):\n",
    "    return (pow(g,x)%p)"
   ]
  },
  {
   "cell_type": "code",
   "execution_count": 119,
   "id": "95ca9cac-488e-4f0c-ad43-87a72e7f3b7e",
   "metadata": {},
   "outputs": [],
   "source": [
    "def print_info(a,b,g,A,B,A_key,B_key):\n",
    "    print(\"\\n Alice generate: \\n\\tPrivate Key:\\t\\t\" + str(a) +\n",
    "         \"\\n\\tRandom parametr(P):\\t\" + str(p) +\n",
    "         \"\\n\\tPrimitive root:\\t\\t\" + str(g) +\n",
    "         \"\\n\\tAlice Public Key:\\t\" + str(A) +\n",
    "         \"\\n\\tKey info is:\\t\" + str(A_key))\n",
    "    \n",
    "    print(\"\\n Bob generate: \\n\\tPrivate Key:\\t\\t\" + str(b) +\n",
    "         \"\\n\\tRandom parametr(P):\\t\" + str(p) +\n",
    "         \"\\n\\tPrimitive root:\\t\\t\" + str(g) +\n",
    "         \"\\n\\tBob Public Key:\\t\\t\" + str(B)+\n",
    "         \"\\n\\tKey info is:\\t\" + str(B_key))"
   ]
  },
  {
   "cell_type": "code",
   "execution_count": 120,
   "id": "699b99c4-d4d7-4933-9fe3-585a6e637879",
   "metadata": {},
   "outputs": [
    {
     "name": "stdin",
     "output_type": "stream",
     "text": [
      " 7883\n"
     ]
    }
   ],
   "source": [
    "p = int(input())\n",
    "A_private, B_private = get_start_value(p),get_start_value(p)"
   ]
  },
  {
   "cell_type": "code",
   "execution_count": 121,
   "id": "17ae83e0-7776-4ed4-9f46-f5b14ae140a6",
   "metadata": {},
   "outputs": [
    {
     "name": "stdout",
     "output_type": "stream",
     "text": [
      "G was hacked :16499642\n",
      "\n",
      " Alice generate: \n",
      "\tPrivate Key:\t\t449\n",
      "\tRandom parametr(P):\t7883\n",
      "\tPrimitive root:\t\t16499642\n",
      "\tAlice Public Key:\t1917\n",
      "\tKey info is:\t1424\n",
      "\n",
      " Bob generate: \n",
      "\tPrivate Key:\t\t4463\n",
      "\tRandom parametr(P):\t7883\n",
      "\tPrimitive root:\t\t16499642\n",
      "\tBob Public Key:\t\t602\n",
      "\tKey info is:\t1424\n"
     ]
    }
   ],
   "source": [
    "G=2\n",
    "A_public, B_public = get_key(A_private,G,p), get_key(B_private,G,p)\n",
    "for i in range(100000):\n",
    "    G=G+i\n",
    "    A_key, B_key = get_key(B_public,G,a), get_key(A_public,G,b)\n",
    "    if(A_key==B_key):\n",
    "        print(\"G was hacked :\"+str(G))\n",
    "        print_info(A_private,B_private,G,A_public,B_public,A_key,B_key)\n",
    "        break\n"
   ]
  },
  {
   "cell_type": "code",
   "execution_count": null,
   "id": "751e6d82-0588-459e-ae39-c3e938e53c42",
   "metadata": {},
   "outputs": [],
   "source": []
  }
 ],
 "metadata": {
  "kernelspec": {
   "display_name": "Python 3 (ipykernel)",
   "language": "python",
   "name": "python3"
  },
  "language_info": {
   "codemirror_mode": {
    "name": "ipython",
    "version": 3
   },
   "file_extension": ".py",
   "mimetype": "text/x-python",
   "name": "python",
   "nbconvert_exporter": "python",
   "pygments_lexer": "ipython3",
   "version": "3.8.10"
  }
 },
 "nbformat": 4,
 "nbformat_minor": 5
}
