

def passwor_generation():
    pass






