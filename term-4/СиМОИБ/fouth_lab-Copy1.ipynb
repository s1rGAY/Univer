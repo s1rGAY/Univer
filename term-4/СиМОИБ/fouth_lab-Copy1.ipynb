{
 "cells": [
  {
   "cell_type": "markdown",
   "id": "321ce7e1-b210-489b-9220-4a9817e63482",
   "metadata": {},
   "source": [
    "### Вариант 20"
   ]
  },
  {
   "cell_type": "code",
   "execution_count": 11,
   "id": "14b32de3-4844-4eb6-ba92-7e8b9410e8fc",
   "metadata": {},
   "outputs": [],
   "source": [
    "import random"
   ]
  },
  {
   "cell_type": "code",
   "execution_count": 12,
   "id": "7c5b7570-61d1-4397-b868-fee00c8eb747",
   "metadata": {},
   "outputs": [],
   "source": [
    "def get_start_value(x):\n",
    "    while(True):\n",
    "        a = random.randint(0,x-1)\n",
    "        if isPrime(a)==True:\n",
    "            return a"
   ]
  },
  {
   "cell_type": "code",
   "execution_count": 13,
   "id": "901c5a92-14e1-45c7-b023-c48c749a637b",
   "metadata": {},
   "outputs": [],
   "source": [
    "def getPubKey (a, g, p):\n",
    "    rez = g\n",
    "    while (a > 0):\n",
    "        rez =rez*g%p\n",
    "        a = a -1\n",
    "    return rez"
   ]
  },
  {
   "cell_type": "code",
   "execution_count": 14,
   "id": "4ef4c595-49b0-4e8f-bd49-7a4c372fec67",
   "metadata": {},
   "outputs": [],
   "source": [
    "def isPrime(n):\n",
    "    if n % 2 == 0:\n",
    "        return n == 2\n",
    "    d = 3\n",
    "    while d * d <= n and n % d != 0:\n",
    "        d += 2\n",
    "    return d * d > n"
   ]
  },
  {
   "cell_type": "code",
   "execution_count": 15,
   "id": "72f35127-fb18-43a1-b1b2-e95f1483e3a3",
   "metadata": {},
   "outputs": [],
   "source": [
    "def gcd(a,b):\n",
    "    while a!=b:\n",
    "        if a>b:\n",
    "            a=a-b\n",
    "        else:\n",
    "            b=b-a\n",
    "    return a"
   ]
  },
  {
   "cell_type": "code",
   "execution_count": 16,
   "id": "05329fc5-fe5b-4660-bc5e-8dc8e6359a00",
   "metadata": {},
   "outputs": [],
   "source": [
    "def primitive_root(modulo):\n",
    "    required_set = set(num for num in range(1, modulo) if gcd(num, modulo) == 1)\n",
    "    for g in range(1, modulo):\n",
    "        actual_set = set(pow(g, powers)%modulo for powers in range(1,modulo))\n",
    "        if required_set == actual_set:\n",
    "            return g"
   ]
  },
  {
   "cell_type": "code",
   "execution_count": 17,
   "id": "95ca9cac-488e-4f0c-ad43-87a72e7f3b7e",
   "metadata": {},
   "outputs": [],
   "source": [
    "def print_info(a,b,g,A,B,A_key,B_key):\n",
    "    print(\"\\n Alice generate: \\n\\tPrivate Key:\\t\\t\" + str(a) +\n",
    "         \"\\n\\tRandom parametr(P):\\t\" + str(p) +\n",
    "         \"\\n\\tPrimitive root:\\t\\t\" + str(g) +\n",
    "         \"\\n\\tAlice Public Key:\\t\" + str(A) +\n",
    "         \"\\n\\tKey info is:\\t\" + str(A_key))\n",
    "    \n",
    "    print(\"\\n Bob generate: \\n\\tPrivate Key:\\t\\t\" + str(b) +\n",
    "         \"\\n\\tRandom parametr(P):\\t\" + str(p) +\n",
    "         \"\\n\\tPrimitive root:\\t\\t\" + str(g) +\n",
    "         \"\\n\\tBob Public Key:\\t\\t\" + str(B)+\n",
    "         \"\\n\\tKey info is:\\t\" + str(B_key))"
   ]
  },
  {
   "cell_type": "code",
   "execution_count": 19,
   "id": "699b99c4-d4d7-4933-9fe3-585a6e637879",
   "metadata": {},
   "outputs": [
    {
     "name": "stdin",
     "output_type": "stream",
     "text": [
      " 7883\n"
     ]
    }
   ],
   "source": [
    "p = int(input())\n",
    "G, A_private, B_private= primitive_root(p), get_start_value(p), get_start_value(p)"
   ]
  },
  {
   "cell_type": "code",
   "execution_count": 20,
   "id": "17ae83e0-7776-4ed4-9f46-f5b14ae140a6",
   "metadata": {},
   "outputs": [
    {
     "name": "stdout",
     "output_type": "stream",
     "text": [
      "\n",
      " Alice generate: \n",
      "\tPrivate Key:\t\t1657\n",
      "\tRandom parametr(P):\t7883\n",
      "\tPrimitive root:\t\t2\n",
      "\tAlice Public Key:\t6094\n",
      "\tKey info is:\t2610\n",
      "\n",
      " Bob generate: \n",
      "\tPrivate Key:\t\t5701\n",
      "\tRandom parametr(P):\t7883\n",
      "\tPrimitive root:\t\t2\n",
      "\tBob Public Key:\t\t4035\n",
      "\tKey info is:\t2610\n"
     ]
    }
   ],
   "source": [
    "A_public, B_public = getPubKey(A_private,G,p), getPubKey(B_private,G,p)\n",
    "A_key, B_key = getPubKey(A_private,B_public,p), getPubKey(B_private,A_public,p)\n",
    "\n",
    "print_info(A_private,B_private,G,A_public,B_public,A_key,B_key)"
   ]
  },
  {
   "cell_type": "code",
   "execution_count": null,
   "id": "6b0c875e-477f-4ae3-abe6-bda6c892c34f",
   "metadata": {},
   "outputs": [],
   "source": []
  }
 ],
 "metadata": {
  "kernelspec": {
   "display_name": "Python 3 (ipykernel)",
   "language": "python",
   "name": "python3"
  },
  "language_info": {
   "codemirror_mode": {
    "name": "ipython",
    "version": 3
   },
   "file_extension": ".py",
   "mimetype": "text/x-python",
   "name": "python",
   "nbconvert_exporter": "python",
   "pygments_lexer": "ipython3",
   "version": "3.8.10"
  }
 },
 "nbformat": 4,
 "nbformat_minor": 5
}
