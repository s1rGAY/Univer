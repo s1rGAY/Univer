{
  "nbformat": 4,
  "nbformat_minor": 0,
  "metadata": {
    "colab": {
      "name": "Iterators-and-Iterable.ipynb",
      "provenance": [],
      "collapsed_sections": [],
      "authorship_tag": "ABX9TyMJrvrUPRB2dxNcCyYKPrfI"
    },
    "kernelspec": {
      "name": "python3",
      "display_name": "Python 3"
    },
    "language_info": {
      "name": "python"
    }
  },
  "cells": [
    {
      "cell_type": "markdown",
      "source": [
        "# Введение"
      ],
      "metadata": {
        "id": "4Dn8aFE-yCE7"
      }
    },
    {
      "cell_type": "markdown",
      "source": [
        "**Итераторы в python**"
      ],
      "metadata": {
        "id": "zKCd1TMDyPyV"
      }
    },
    {
      "cell_type": "markdown",
      "source": [
        "Для начала необходимо сказать, что существуют 2 связанных поняти:\n",
        "\n",
        "\n",
        "1.   Itrerator(итератор) - это объект, который реализует протокол итератора.\n",
        "2.   Iterable(итерируемый) - это любой объект Python, способный возвращать свои члены по одному, что позволяет повторять его в цикле for."
      ],
      "metadata": {
        "id": "oYgZOpuT0tUw"
      }
    },
    {
      "cell_type": "markdown",
      "source": [
        "# Iterator vs Iterable"
      ],
      "metadata": {
        "id": "IrB9xPM9yafi"
      }
    },
    {
      "cell_type": "markdown",
      "source": [
        "Технически в Python **итератор** (iterator) — это объект, реализующий протокол итератора, состоящий из методов `__iter__()` и `__next__()`.\n",
        "Итератор запоминает, на каком объекте он остановился в последнюю итерацию."
      ],
      "metadata": {
        "id": "eP0NoAWqEiKY"
      }
    },
    {
      "cell_type": "markdown",
      "source": [
        "**Итерируемый объект** (iterable) - это объект, который способен возвращать элементы по одному. Кроме того, это объект, из которого можно получить итератор."
      ],
      "metadata": {
        "id": "7ah5YSnxEtqC"
      }
    },
    {
      "cell_type": "markdown",
      "source": [
        "##Итерируемые объекты"
      ],
      "metadata": {
        "id": "OYenI5LxQtS3"
      }
    },
    {
      "cell_type": "markdown",
      "source": [
        "Примеры **итерируемых** объектов:\n",
        "\n",
        "*   все последовательности: список, строка, кортеж и тд\n",
        "*   словари\n",
        "*   файлы\n",
        "\n",
        "Это итерируемые контейнеры , из которых вы можете получить итератор.\n",
        "В Python за **получение итератора** отвечает функция `iter()`(которая, в свою очередь, вызывает `__iter__()`). \n",
        "\n",
        "Данная функция отработает на любом объекте, у которого есть метод `__iter__` или метод `__getitem__`.\n",
        "Если этого метода нет(`__iter__`), функция iter() проверяет, нет ли метода `__getitem__` - метода, который позволяет получать элементы по индексу.\n",
        "\n",
        "Если метод `__getitem__` есть, возвращается итератор, который проходится по элементам, используя индекс (начиная с 0).\n",
        "\n",
        "На практике использование метода `__getitem__` означает, что все последовательности элементов - это итерируемые объекты. \n",
        "\n",
        "Например, список, кортеж, строка. Хотя у этих типов данных есть и метод `__iter__`."
      ],
      "metadata": {
        "id": "WojxLd6M5n2b"
      }
    },
    {
      "cell_type": "code",
      "source": [
        "#Для перечисления всех полей и методов вашего объекта используется функция dir(object)\n",
        "dir('Все методы  и поля у типа string')\n",
        "#Можете поискать методы __iter__ и __getitem__  :)"
      ],
      "metadata": {
        "colab": {
          "base_uri": "https://localhost:8080/"
        },
        "id": "8r-Y6OPn_KDQ",
        "outputId": "45fd1184-cc09-4722-f35b-d1125f77c2bf"
      },
      "execution_count": null,
      "outputs": [
        {
          "output_type": "execute_result",
          "data": {
            "text/plain": [
              "['__add__',\n",
              " '__class__',\n",
              " '__contains__',\n",
              " '__delattr__',\n",
              " '__dir__',\n",
              " '__doc__',\n",
              " '__eq__',\n",
              " '__format__',\n",
              " '__ge__',\n",
              " '__getattribute__',\n",
              " '__getitem__',\n",
              " '__getnewargs__',\n",
              " '__gt__',\n",
              " '__hash__',\n",
              " '__init__',\n",
              " '__init_subclass__',\n",
              " '__iter__',\n",
              " '__le__',\n",
              " '__len__',\n",
              " '__lt__',\n",
              " '__mod__',\n",
              " '__mul__',\n",
              " '__ne__',\n",
              " '__new__',\n",
              " '__reduce__',\n",
              " '__reduce_ex__',\n",
              " '__repr__',\n",
              " '__rmod__',\n",
              " '__rmul__',\n",
              " '__setattr__',\n",
              " '__sizeof__',\n",
              " '__str__',\n",
              " '__subclasshook__',\n",
              " 'capitalize',\n",
              " 'casefold',\n",
              " 'center',\n",
              " 'count',\n",
              " 'encode',\n",
              " 'endswith',\n",
              " 'expandtabs',\n",
              " 'find',\n",
              " 'format',\n",
              " 'format_map',\n",
              " 'index',\n",
              " 'isalnum',\n",
              " 'isalpha',\n",
              " 'isascii',\n",
              " 'isdecimal',\n",
              " 'isdigit',\n",
              " 'isidentifier',\n",
              " 'islower',\n",
              " 'isnumeric',\n",
              " 'isprintable',\n",
              " 'isspace',\n",
              " 'istitle',\n",
              " 'isupper',\n",
              " 'join',\n",
              " 'ljust',\n",
              " 'lower',\n",
              " 'lstrip',\n",
              " 'maketrans',\n",
              " 'partition',\n",
              " 'replace',\n",
              " 'rfind',\n",
              " 'rindex',\n",
              " 'rjust',\n",
              " 'rpartition',\n",
              " 'rsplit',\n",
              " 'rstrip',\n",
              " 'split',\n",
              " 'splitlines',\n",
              " 'startswith',\n",
              " 'strip',\n",
              " 'swapcase',\n",
              " 'title',\n",
              " 'translate',\n",
              " 'upper',\n",
              " 'zfill']"
            ]
          },
          "metadata": {},
          "execution_count": 23
        }
      ]
    },
    {
      "cell_type": "markdown",
      "source": [
        "##Итераторы"
      ],
      "metadata": {
        "id": "CXak95NqQ5AT"
      }
    },
    {
      "cell_type": "markdown",
      "source": [
        "В Python у каждого итератора присутствует метод `__iter__` - то есть, **любой итератор является итерируемым объектом**. Этот метод просто возвращает сам итератор.\n",
        "\n",
        "Когда итератор достигает конца и больше не будет возвращаемых данных, возникнет `StopIteration` исключение."
      ],
      "metadata": {
        "id": "8Jf6lZL0gfdc"
      }
    },
    {
      "cell_type": "markdown",
      "source": [
        "###Примеры"
      ],
      "metadata": {
        "id": "suLzBIFURBBL"
      }
    },
    {
      "cell_type": "markdown",
      "source": [
        "\n",
        "1.   Создаем кортеж\n",
        "2.   Возвращаем итератор при помощи метода `iter()` \n",
        "\n",
        "1.   Выводим по очереди содержимое кортежа 3 раза(по количеству элементов) при помощи метода `next()`\n",
        "\n",
        "1.   Получение исключения *`StopIteration`* при следующем вызове\n",
        "\n",
        "\n",
        "\n",
        "\n",
        "\n",
        "\n",
        "\n",
        "\n"
      ],
      "metadata": {
        "id": "v_k19Soj6Ub_"
      }
    },
    {
      "cell_type": "code",
      "source": [
        "#Пример\n",
        "\n",
        "mytuple = (\"Первый элемент\", \"Второй элемент\", \"Третий элемент\")\n",
        "myit = iter(mytuple)\n",
        "\n",
        "print(next(myit))\n",
        "print(next(myit))\n",
        "print(next(myit))\n",
        "#Тк мы вывели 3 элемента кортежа из 3, то при следующем вызове получем исключение 'StopIteration'\n",
        "#Которое сигнализирует нам о том, что дальше итерироваться нельзя(закончились элементы)\n",
        "\n",
        "#НЕОБХОДИМО РАСКОММЕНТИРОВАТЬ СТРОЧКУ НИЖЕ ДЛЯ ПОЛУЧЕНИЯ ИСКЛЮЧЕНИЯ 'StopIteration'\n",
        "\n",
        "#print(next(myit))"
      ],
      "metadata": {
        "colab": {
          "base_uri": "https://localhost:8080/"
        },
        "id": "fOgdGkG76QV8",
        "outputId": "39877b32-d944-42c6-fdcd-8ab1d53da789"
      },
      "execution_count": null,
      "outputs": [
        {
          "output_type": "stream",
          "name": "stdout",
          "text": [
            "Первый элемент\n",
            "Второй элемент\n",
            "Третий элемент\n"
          ]
        }
      ]
    },
    {
      "cell_type": "markdown",
      "source": [
        "Т.к. строки тоже являются итерируемыми объектами, с ними можно повторить данный пример."
      ],
      "metadata": {
        "id": "g8IPgdoFAzfy"
      }
    },
    {
      "cell_type": "code",
      "source": [
        "mystr = \"Я хороший студент\"\n",
        "myit = iter(mystr)\n",
        "\n",
        "for i in range(len(mystr)):\n",
        "  print(next(myit), end=' ')\n",
        "\n",
        "#НЕОБХОДИМО РАСКОММЕНТИРОВАТЬ СТРОЧКУ НИЖЕ ДЛЯ ПОЛУЧЕНИЯ ИСКЛЮЧЕНИЯ 'StopIteration'\n",
        "\n",
        "#print(next(myit), end=' ') "
      ],
      "metadata": {
        "colab": {
          "base_uri": "https://localhost:8080/"
        },
        "id": "R0y5kJ3n9rgH",
        "outputId": "e0ccd3fc-f8ca-42ca-9fd5-49ff77e83d59"
      },
      "execution_count": null,
      "outputs": [
        {
          "output_type": "stream",
          "name": "stdout",
          "text": [
            "Я   х о р о ш и й   с т у д е н т "
          ]
        }
      ]
    },
    {
      "cell_type": "markdown",
      "source": [
        "Как было написано ранее, файл - итерируемый объект. \n",
        "\n",
        "Как по нему можно итерироваться?\n",
        "\n",
        "Следующий пример ответит на данный вопрос )"
      ],
      "metadata": {
        "id": "DITx8iu8I1Kf"
      }
    },
    {
      "cell_type": "markdown",
      "source": [
        "####Итераторы в работе с файлами"
      ],
      "metadata": {
        "id": "xsLPOqO9Jco1"
      }
    },
    {
      "cell_type": "markdown",
      "source": [
        "Если открыть файл обычной функцией `open`, мы получим объект, который представляет файл:"
      ],
      "metadata": {
        "id": "LmU8Tv5JKt1I"
      }
    },
    {
      "cell_type": "code",
      "source": [
        "#необходимо создать файл в вашем google colab\n",
        "#можете пропустить данный блок кода и загрузить соответствующий txt файл самостоятельно\n",
        "my_file = open(\"test_file.txt\", \"w+\")\n",
        "my_file.write(\"Строка 1 \\n Строка 2 \\n Строка 3 \\n Строка 4 \\n Строка 5 \\n Строка 6 \\n Строка 7 \\n Строка 8 \\n Строка 9 \\n Строка 10\")\n",
        "my_file.close()"
      ],
      "metadata": {
        "id": "IdGV39H1rCAl"
      },
      "execution_count": 122,
      "outputs": []
    },
    {
      "cell_type": "code",
      "source": [
        "f = open('test_file.txt')"
      ],
      "metadata": {
        "id": "DAo0g3ZeBcN-"
      },
      "execution_count": 123,
      "outputs": []
    },
    {
      "cell_type": "markdown",
      "source": [
        "Этот объект является итератором, что можно проверить, вызвав метод `__next__`:"
      ],
      "metadata": {
        "id": "tG4UPCzWLSeW"
      }
    },
    {
      "cell_type": "code",
      "source": [
        "f.__next__()\n",
        "f.__next__()"
      ],
      "metadata": {
        "colab": {
          "base_uri": "https://localhost:8080/",
          "height": 36
        },
        "id": "rYcm1SDZK0Ov",
        "outputId": "67800a06-29ff-47f3-f6e6-50fc599540ef"
      },
      "execution_count": 124,
      "outputs": [
        {
          "output_type": "execute_result",
          "data": {
            "text/plain": [
              "' Строка 2 \\n'"
            ],
            "application/vnd.google.colaboratory.intrinsic+json": {
              "type": "string"
            }
          },
          "metadata": {},
          "execution_count": 124
        }
      ]
    },
    {
      "cell_type": "markdown",
      "source": [
        "*Обратите внимание, что для того чтобы начать считывать файл заново, необходимо его перезагрузить(повторить первую ячейку с вызовом `open`)"
      ],
      "metadata": {
        "id": "XHCi_e-7L6Dx"
      }
    },
    {
      "cell_type": "markdown",
      "source": [
        "Аналогичным образом можно перебирать строки в цикле for:"
      ],
      "metadata": {
        "id": "jfBLYLWtMdLR"
      }
    },
    {
      "cell_type": "code",
      "source": [
        "#вывод начинается со строки 3 т.к. до этого мы 2 раза вызвали метод __next__()\n",
        "for line in f:\n",
        "    print(line.rstrip())"
      ],
      "metadata": {
        "colab": {
          "base_uri": "https://localhost:8080/"
        },
        "id": "KmThotvLLb1_",
        "outputId": "eea15ba6-7697-4cd2-bc26-6e326d65dfd9"
      },
      "execution_count": 125,
      "outputs": [
        {
          "output_type": "stream",
          "name": "stdout",
          "text": [
            " Строка 3\n",
            " Строка 4\n",
            " Строка 5\n",
            " Строка 6\n",
            " Строка 7\n",
            " Строка 8\n",
            " Строка 9\n",
            " Строка 10\n"
          ]
        }
      ]
    },
    {
      "cell_type": "markdown",
      "source": [
        "При работе с файлами, использование файла как итератора не просто позволяет перебирать файл построчно - **в каждую итерацию загружена только одна строка**."
      ],
      "metadata": {
        "id": "IglgGTtzNJcT"
      }
    },
    {
      "cell_type": "markdown",
      "source": [
        "###Итераторы в цикле **for**"
      ],
      "metadata": {
        "id": "5N_2H3SzQeD4"
      }
    },
    {
      "cell_type": "markdown",
      "source": [
        "Рассмотрим простой пример"
      ],
      "metadata": {
        "id": "8PyRNDINRmGY"
      }
    },
    {
      "cell_type": "code",
      "source": [
        "my_list = [0, 1, 2, 3]\n",
        "for element in my_list:\n",
        "     print(element)"
      ],
      "metadata": {
        "colab": {
          "base_uri": "https://localhost:8080/"
        },
        "id": "PXpR4SlKMhNg",
        "outputId": "63db8943-25ec-41ef-8c3a-75a842ad1c77"
      },
      "execution_count": 126,
      "outputs": [
        {
          "output_type": "stream",
          "name": "stdout",
          "text": [
            "0\n",
            "1\n",
            "2\n",
            "3\n"
          ]
        }
      ]
    },
    {
      "cell_type": "markdown",
      "source": [
        "Как видно из приведенного выше примера, цикл `for` мог автоматически проходить по списку.\n",
        "\n",
        "На самом деле цикл `for` может повторяться по любому итерируемому объекту.\n",
        "\n",
        "Как же на самом деле реализован цикл for ?"
      ],
      "metadata": {
        "id": "B0Na9kIESZTT"
      }
    },
    {
      "cell_type": "markdown",
      "source": [
        "```\n",
        "Создадим итератор используя какой-нибудь итерируемый объект\n",
        "\n",
        "iter_obj = iter(iterable)\n",
        "while True:\n",
        "    try:\n",
        "        Получаем следующий элемент       \n",
        "        element = next(iter_obj)\n",
        "        Делаем что-то с этим элементом\n",
        "    except StopIteration:\n",
        "        При получении исключения выходим из цикла\n",
        "        break\n",
        "```"
      ],
      "metadata": {
        "id": "4SrH1qyyTFwU"
      }
    },
    {
      "cell_type": "markdown",
      "source": [
        "Итак, внутренне `for` создает объект итератора, `iter_obj` вызывая `iter()` итерируемый объект.\n",
        "\n",
        "Как ни странно, этот цикл на самом деле является бесконечным циклом `while` .\n",
        "\n",
        "Внутри цикла он вызывает `next()` для получения следующего элемента и выполняет тело цикла с этим значением. \n",
        "\n",
        "После того, как все элементы пройдены, выскакивает исключение `StopIteration`, и петля заканчивается. Обратите внимание, что **любое другое исключение будет пропущено**."
      ],
      "metadata": {
        "id": "mwsjIIdjVDxO"
      }
    },
    {
      "cell_type": "markdown",
      "source": [
        "###Итоговый протокол итератора\n",
        "\n"
      ],
      "metadata": {
        "id": "ntRnTMMZWOjg"
      }
    },
    {
      "cell_type": "markdown",
      "source": [
        "\n",
        "\n",
        "1.   Чтобы получить итератор мы должны передать функции `iter` итерируемый объект.\n",
        "2.   Далее мы передаём итератор функции `next`.\n",
        "3.   Когда элементы в итераторе закончились, порождается исключение `StopIteration`.\n",
        "\n",
        "\n",
        "\n",
        "\n"
      ],
      "metadata": {
        "id": "wjG50pKAW8Qu"
      }
    },
    {
      "cell_type": "markdown",
      "source": [
        "Особенности:\n",
        "\n",
        "\n",
        "1.   Любой объект, передаваемый функции `iter` без исключения `TypeError` — итерируемый объект.\n",
        "1.   Любой объект, передаваемый функции `next` без исключения `TypeError` — итератор.\n",
        "3.   Любой объект, передаваемый функции `iter` и возвращающий сам себя — итератор.\n",
        "\n",
        "\n"
      ],
      "metadata": {
        "id": "XMU65qe0XM_7"
      }
    },
    {
      "cell_type": "markdown",
      "source": [
        "Плюсы итераторов:\n",
        "\n",
        "\n",
        "1.   Итераторы работают \"лениво\". А это значит, что они не выполняют какой-либо работы, до тех пор, пока мы их об этом не попросим.\n",
        "2.   Таким образом, мы можем оптимизировать потребление ресурсов ОЗУ и CPU\n",
        "\n"
      ],
      "metadata": {
        "id": "lR6LYLxCXhx0"
      }
    },
    {
      "cell_type": "markdown",
      "source": [
        "#**Задание на практику.**\n",
        "\n",
        "Попробуйте создать свой итератор который даст следующую степень числа 2 на каждой итерации. Показатель степени начинается с нуля до числа, установленного пользователем.(передаётся при создании экземпляра класса)\n",
        "\n",
        "\n",
        "1.   Создайте класс.\n",
        "1.   Реализуйте метод `__init__`.\n",
        "2.   Реализуйте метод `__iter__()`, который возвращает сам объект итератора. *При необходимости может быть выполнена некоторая инициализация.*\n",
        "2.   Реализуйте метод `__next__()`, который должен возвращать следующий элемент в последовательности. По достижении конца и при последующих вызовах он должен вызывать `StopIteration`."
      ],
      "metadata": {
        "id": "GhV-ceBmacSw"
      }
    },
    {
      "cell_type": "code",
      "source": [
        "#Ваш код:\n"
      ],
      "metadata": {
        "id": "uVuHC8SDSKJo"
      },
      "execution_count": null,
      "outputs": []
    },
    {
      "cell_type": "markdown",
      "source": [
        "##Ответ к заданию(советую пройти тест перед просмотром решения)"
      ],
      "metadata": {
        "id": "LlZJop_HcuRX"
      }
    },
    {
      "cell_type": "code",
      "source": [
        "class PowTwo:\n",
        "\n",
        "    def __init__(self, max=0):\n",
        "        self.max = max\n",
        "\n",
        "    def __iter__(self):\n",
        "        self.n = 0\n",
        "        return self\n",
        "\n",
        "    def __next__(self):\n",
        "        if self.n <= self.max:\n",
        "            result = 2 ** self.n\n",
        "            self.n += 1\n",
        "            return result\n",
        "        else:\n",
        "            raise StopIteration"
      ],
      "metadata": {
        "id": "D9gKj9_8cznq"
      },
      "execution_count": 111,
      "outputs": []
    },
    {
      "cell_type": "code",
      "source": [
        "def test(UserClass):\n",
        "  answ_numb, user_numb = PowTwo(99), UserClass(99)\n",
        "  answ_i, user_i = iter(answ_numb), iter(user_numb)\n",
        "  correct_answ, user_answ = [], []\n",
        "\n",
        "  for i in range(100):\n",
        "    correct_answ.append(next(answ_i))\n",
        "    user_answ.append(next(user_i))\n",
        "\n",
        "    if correct_answ[-1] == user_answ[-1] : pass\n",
        "    else : \n",
        "      correct_answ.pop(-1)\n",
        "      print('Ошибка!')\n",
        "\n",
        "  if len(correct_answ) == 100:\n",
        "    print('Все ответы правильные!')\n",
        "  else:\n",
        "    print('Неверные ответы для ', 100-len(correct_answ), ' чисел.')\n",
        "  try:\n",
        "    next(user_i)\n",
        "  except:\n",
        "    print(\"\\nИсключение StopIteration выполнено правильно.\")\n",
        "  else:\n",
        "    print(\"\\nОжидалось StopIteration, но его нет :( .\")"
      ],
      "metadata": {
        "colab": {
          "base_uri": "https://localhost:8080/"
        },
        "id": "2cMIPYqcc4YC",
        "outputId": "8b7db131-078e-42e3-9707-f2d76e000404"
      },
      "execution_count": 112,
      "outputs": [
        {
          "output_type": "stream",
          "name": "stdout",
          "text": [
            "Все ответы правильные!\n",
            "\n",
            "Исключение StopIteration выполнено правильно.\n"
          ]
        }
      ]
    },
    {
      "cell_type": "markdown",
      "source": [
        "##Тест"
      ],
      "metadata": {
        "id": "xO6vQvS2eU7F"
      }
    },
    {
      "cell_type": "code",
      "source": [
        "#Замените YourClass на имя вашего класса\n",
        "test(YourClass)"
      ],
      "metadata": {
        "id": "Nw881G_EoMGi"
      },
      "execution_count": null,
      "outputs": []
    }
  ]
}