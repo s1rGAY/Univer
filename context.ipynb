{
  "nbformat": 4,
  "nbformat_minor": 0,
  "metadata": {
    "colab": {
      "name": "context.ipynb",
      "provenance": [],
      "collapsed_sections": [],
      "toc_visible": true,
      "authorship_tag": "ABX9TyMSX8aUsm2WBy4cbecNEkoa"
    },
    "kernelspec": {
      "name": "python3",
      "display_name": "Python 3"
    },
    "language_info": {
      "name": "python"
    }
  },
  "cells": [
    {
      "cell_type": "markdown",
      "source": [
        "#Управление контекстом"
      ],
      "metadata": {
        "id": "P5bW9lHGLUkk"
      }
    },
    {
      "cell_type": "markdown",
      "source": [
        "В python управление контекстом осуществляется при помощи контекстных менеджеров.\n",
        "\n",
        "**Контекстный менеджер** - это объект, который выполняет за вас рутинную работу, когда вы используете определённые ресурсы. \n",
        "\n",
        "Менеджер контекста задаёт временный контекст и ликвидирует его после выполнения операций."
      ],
      "metadata": {
        "id": "5bA7Go7RMU7j"
      }
    },
    {
      "cell_type": "markdown",
      "source": [
        "#Что такое контекстный менеджер"
      ],
      "metadata": {
        "id": "ZMewEvJcQmf6"
      }
    },
    {
      "cell_type": "markdown",
      "source": [
        "Контекстные менеджеры упрощают работу с ресурсами. Они очень эффективны в их выделении и освобождении. По своей сути контекстные менеджеры из себя представляют блок кода, который будет гарантировать правльное выделение и освобожение используемых ресурсов."
      ],
      "metadata": {
        "id": "kJv5WONWQqLU"
      }
    },
    {
      "cell_type": "markdown",
      "source": [
        "Самой популярной конструкцией является `with`. \n",
        "\n",
        "Если вы хоть раз работали с файлами в python, скорее всего, вы использовали именно эту конструкцию.\n",
        "\n",
        "Рассмотрим пример, на котором будут показаны преимущества работы с контекстным менеджером. \n",
        "\n",
        "Задача состоит в следующем: записать в файл *file.txt* строку *hello*.\n",
        "\n",
        "**Самый простой** способ ее решить: \n",
        "\n",
        "1.   Воспользоваться функцией `open()` для открытия файла.\n",
        "2.   Записать в него необходимые данные через функцию `write()`.\n",
        "3.   Освободить выделенный на это действие ресурс, вызвав функцию `close()`.\n",
        "\n"
      ],
      "metadata": {
        "id": "bu2IowTQRow7"
      }
    },
    {
      "cell_type": "code",
      "source": [
        "f = open(‘file.txt’, ‘w’)\n",
        "f.write(‘hello’)\n",
        "f.close()"
      ],
      "metadata": {
        "id": "eALPJ-0zMOzO"
      },
      "execution_count": null,
      "outputs": []
    },
    {
      "cell_type": "markdown",
      "source": [
        "Но **это плохое решение**, если в процессе работы с файлом (запись, чтение), произошло исключение, то функция `close()` не будет вызвана, что **влечет за собой возможную потерю ресурсов**. "
      ],
      "metadata": {
        "id": "AzULQoK1TEmG"
      }
    },
    {
      "cell_type": "code",
      "source": [
        "f = open(‘file.txt’, ‘w’)\n",
        "f.write(‘hello’)\n",
        "raise ValueError('STOP') \n",
        "f.close()"
      ],
      "metadata": {
        "id": "JESOJVQZMVl4"
      },
      "execution_count": null,
      "outputs": []
    },
    {
      "cell_type": "markdown",
      "source": [
        "Для предотвращения возможных потерь необходимо грамотно обработать исключения :"
      ],
      "metadata": {
        "id": "vNK8XYfCMVwt"
      }
    },
    {
      "cell_type": "code",
      "source": [
        "f = open('file.txt', 'w')\n",
        "try:\n",
        "    f.write('hello')\n",
        "except:\n",
        "    print('Some error!')\n",
        "finally:\n",
        "    f.close()"
      ],
      "metadata": {
        "id": "-FlgdbCSTl5P"
      },
      "execution_count": null,
      "outputs": []
    },
    {
      "cell_type": "markdown",
      "source": [
        "Таким образом, соединив первое решение и грамотную обработку исключений мы получем, что для решения данной задачи понадобилось написать 7 строчек кода, в которых можно ошибиться или просто забыть описать какой-то важный момент. Таким образом мы рискуем \"потерять\" выделенные ресурсы!\n",
        "\n",
        "И это только при простом открытии одного файла. Если же вам понадобится открывать файлы или базы данных в разных частях вашей программы, вам придётся каждый раз грамотно обрабатывать работу с ресурсами. Это будет в явном виде вызывать дублирование кода, что повышает риск ошибки.\n",
        "\n"
      ],
      "metadata": {
        "id": "uCKXbgfhTsLN"
      }
    },
    {
      "cell_type": "markdown",
      "source": [
        "Для решения задачи, избегая выше указанных проблем, можно использовать контекстный менеджер `with()` :"
      ],
      "metadata": {
        "id": "oknb_pwZPee7"
      }
    },
    {
      "cell_type": "code",
      "source": [
        "with open('file.txt', 'w') as f:\n",
        "     f.write('hello')"
      ],
      "metadata": {
        "id": "ZIfaWlGDUi-R"
      },
      "execution_count": null,
      "outputs": []
    },
    {
      "cell_type": "markdown",
      "source": [
        "Основное преимущество использования with - это гарантия закрытия файла вне зависимости от того, как будет завершён вложенный код.\n",
        "\n",
        "Таким образом, мы написали всего 2 строчки кода, в которых сложнее ошибиться. \n",
        "\n",
        "Такая конструкция позволяет захватить ресурс (в данном случае файл), выполнить нужный набор операций (запись данных), а перед выходом – освободить ресурс.\n",
        "\n",
        "**Данное решение является самым эффективным**."
      ],
      "metadata": {
        "id": "pTvQKVVRVAgB"
      }
    },
    {
      "cell_type": "markdown",
      "source": [
        "## Более детальный пример"
      ],
      "metadata": {
        "id": "p3VoBLWiPl52"
      }
    },
    {
      "cell_type": "code",
      "source": [
        "#класс который будет выступать в виде произвольного ресурса\n",
        "class Resource:\n",
        "  def __init__(self):\n",
        "    self.opened = False\n",
        "\n",
        "  def open(self, *args):\n",
        "    print(f'Открыли ресурс с аргументами {args}')\n",
        "    self.opened = True\n",
        "\n",
        "  def close(self):\n",
        "    print('Закрыли ресурс')\n",
        "    self.opened = False\n",
        "\n",
        "  def __del__(self):\n",
        "    if self.opened:\n",
        "      print(\"Произошла утечка!\")\n",
        "\n",
        "  def action(self):\n",
        "    print(\"Что-то делаю с ресурсом\")"
      ],
      "metadata": {
        "id": "K5cBeAbRPhwc"
      },
      "execution_count": 15,
      "outputs": []
    },
    {
      "cell_type": "code",
      "source": [
        "#Если у нас всё пошло по плану и мы хорошие программисты\n",
        "resource = Resource()\n",
        "resource.open(1, 2, 3)\n",
        "resource.action()\n",
        "resource.close()"
      ],
      "metadata": {
        "colab": {
          "base_uri": "https://localhost:8080/"
        },
        "id": "M2K6Ek1HRx9J",
        "outputId": "7f66ea93-e566-4613-fbbc-d25b3176660e"
      },
      "execution_count": 16,
      "outputs": [
        {
          "output_type": "stream",
          "name": "stdout",
          "text": [
            "Открыли ресурс с аргументами (1, 2, 3)\n",
            "Что-то делаю с ресурсом\n",
            "Закрыли ресурс\n"
          ]
        }
      ]
    },
    {
      "cell_type": "code",
      "source": [
        "#Допустим, что мы забыли закрыть наш ресурс, что произойдёт?\n",
        "resource = Resource()\n",
        "resource.open(1, 2, 3)\n",
        "resource.action()\n",
        "#resource.close()"
      ],
      "metadata": {
        "colab": {
          "base_uri": "https://localhost:8080/"
        },
        "id": "tyVsLeiKSVoN",
        "outputId": "c1dbf0d2-668c-4979-8efd-426456733b34"
      },
      "execution_count": 18,
      "outputs": [
        {
          "output_type": "stream",
          "name": "stdout",
          "text": [
            "Открыли ресурс с аргументами (1, 2, 3)\n",
            "Что-то делаю с ресурсом\n",
            "Произошла утечка!\n"
          ]
        }
      ]
    },
    {
      "cell_type": "code",
      "source": [
        "#Допустим, что мы грамотно описали работу с нашим ресурсом\n",
        "#Но по какой-то причине получили исключение при работе с ним\n",
        "resource = Resource()\n",
        "resource.open(1, 2, 3)\n",
        "resource.action()\n",
        "raise ValueError('Что-то пошло не так')\n",
        "resource.close()"
      ],
      "metadata": {
        "colab": {
          "base_uri": "https://localhost:8080/",
          "height": 283
        },
        "id": "fXoM9duyZE7_",
        "outputId": "97c3aadf-8385-4c39-d9c6-39006a796603"
      },
      "execution_count": 19,
      "outputs": [
        {
          "output_type": "stream",
          "name": "stdout",
          "text": [
            "Открыли ресурс с аргументами (1, 2, 3)\n",
            "Что-то делаю с ресурсом\n"
          ]
        },
        {
          "output_type": "error",
          "ename": "ValueError",
          "evalue": "ignored",
          "traceback": [
            "\u001b[0;31m---------------------------------------------------------------------------\u001b[0m",
            "\u001b[0;31mValueError\u001b[0m                                Traceback (most recent call last)",
            "\u001b[0;32m<ipython-input-19-074572c1f5ce>\u001b[0m in \u001b[0;36m<module>\u001b[0;34m()\u001b[0m\n\u001b[1;32m      4\u001b[0m \u001b[0mresource\u001b[0m\u001b[0;34m.\u001b[0m\u001b[0mopen\u001b[0m\u001b[0;34m(\u001b[0m\u001b[0;36m1\u001b[0m\u001b[0;34m,\u001b[0m \u001b[0;36m2\u001b[0m\u001b[0;34m,\u001b[0m \u001b[0;36m3\u001b[0m\u001b[0;34m)\u001b[0m\u001b[0;34m\u001b[0m\u001b[0;34m\u001b[0m\u001b[0m\n\u001b[1;32m      5\u001b[0m \u001b[0mresource\u001b[0m\u001b[0;34m.\u001b[0m\u001b[0maction\u001b[0m\u001b[0;34m(\u001b[0m\u001b[0;34m)\u001b[0m\u001b[0;34m\u001b[0m\u001b[0;34m\u001b[0m\u001b[0m\n\u001b[0;32m----> 6\u001b[0;31m \u001b[0;32mraise\u001b[0m \u001b[0mValueError\u001b[0m\u001b[0;34m(\u001b[0m\u001b[0;34m'Что-то пошло не так'\u001b[0m\u001b[0;34m)\u001b[0m\u001b[0;34m\u001b[0m\u001b[0;34m\u001b[0m\u001b[0m\n\u001b[0m\u001b[1;32m      7\u001b[0m \u001b[0mresource\u001b[0m\u001b[0;34m.\u001b[0m\u001b[0mclose\u001b[0m\u001b[0;34m(\u001b[0m\u001b[0;34m)\u001b[0m\u001b[0;34m\u001b[0m\u001b[0;34m\u001b[0m\u001b[0m\n",
            "\u001b[0;31mValueError\u001b[0m: Что-то пошло не так"
          ]
        },
        {
          "output_type": "stream",
          "name": "stdout",
          "text": [
            "Произошла утечка!\n"
          ]
        }
      ]
    },
    {
      "cell_type": "markdown",
      "source": [
        "В этих двух случаях, как видно по выводу, ресурсы не были грамотно закрыты.\n",
        "Это плохо сказывается на нашей программе.\n",
        "\n",
        "Представим, что нам надо как-то избежать данных проблем. \n",
        "\n",
        "Для этого можно использовать контрукцию `try, except, finally`:"
      ],
      "metadata": {
        "id": "-uU-4xbSZwFc"
      }
    },
    {
      "cell_type": "code",
      "source": [
        "resourse = None\n",
        "\n",
        "try:\n",
        "  resource = Resource()\n",
        "  resource.open(1, 2, 3)\n",
        "  resource.action()\n",
        "except:\n",
        "  raise\n",
        "finally:\n",
        "  if resource:\n",
        "    resource.close()"
      ],
      "metadata": {
        "colab": {
          "base_uri": "https://localhost:8080/"
        },
        "id": "-t7oWfxoau3h",
        "outputId": "3a499a98-9c5f-4b36-a092-fcc9308faee0"
      },
      "execution_count": 22,
      "outputs": [
        {
          "output_type": "stream",
          "name": "stdout",
          "text": [
            "Открыли ресурс с аргументами (1, 2, 3)\n",
            "Что-то делаю с ресурсом\n",
            "Закрыли ресурс\n"
          ]
        }
      ]
    },
    {
      "cell_type": "code",
      "source": [
        "#Что если мы получим исключение?\n",
        "resourse = None\n",
        "\n",
        "try:\n",
        "  resource = Resource()\n",
        "  resource.open(1, 2, 3)\n",
        "  resource.action()\n",
        "  raise ValueError()\n",
        "except:\n",
        "  raise\n",
        "finally:\n",
        "  if resource:\n",
        "    resource.close()"
      ],
      "metadata": {
        "colab": {
          "base_uri": "https://localhost:8080/",
          "height": 302
        },
        "id": "nWbnNxC8bcdm",
        "outputId": "932e8c34-ab51-4e7f-c137-65757e4a3250"
      },
      "execution_count": 25,
      "outputs": [
        {
          "output_type": "stream",
          "name": "stdout",
          "text": [
            "Открыли ресурс с аргументами (1, 2, 3)\n",
            "Что-то делаю с ресурсом\n",
            "Закрыли ресурс\n"
          ]
        },
        {
          "output_type": "error",
          "ename": "ValueError",
          "evalue": "ignored",
          "traceback": [
            "\u001b[0;31m---------------------------------------------------------------------------\u001b[0m",
            "\u001b[0;31mValueError\u001b[0m                                Traceback (most recent call last)",
            "\u001b[0;32m<ipython-input-25-5e711f759a85>\u001b[0m in \u001b[0;36m<module>\u001b[0;34m()\u001b[0m\n\u001b[1;32m      6\u001b[0m   \u001b[0mresource\u001b[0m\u001b[0;34m.\u001b[0m\u001b[0mopen\u001b[0m\u001b[0;34m(\u001b[0m\u001b[0;36m1\u001b[0m\u001b[0;34m,\u001b[0m \u001b[0;36m2\u001b[0m\u001b[0;34m,\u001b[0m \u001b[0;36m3\u001b[0m\u001b[0;34m)\u001b[0m\u001b[0;34m\u001b[0m\u001b[0;34m\u001b[0m\u001b[0m\n\u001b[1;32m      7\u001b[0m   \u001b[0mresource\u001b[0m\u001b[0;34m.\u001b[0m\u001b[0maction\u001b[0m\u001b[0;34m(\u001b[0m\u001b[0;34m)\u001b[0m\u001b[0;34m\u001b[0m\u001b[0;34m\u001b[0m\u001b[0m\n\u001b[0;32m----> 8\u001b[0;31m   \u001b[0;32mraise\u001b[0m \u001b[0mValueError\u001b[0m\u001b[0;34m(\u001b[0m\u001b[0;34m)\u001b[0m\u001b[0;34m\u001b[0m\u001b[0;34m\u001b[0m\u001b[0m\n\u001b[0m\u001b[1;32m      9\u001b[0m \u001b[0;32mexcept\u001b[0m\u001b[0;34m:\u001b[0m\u001b[0;34m\u001b[0m\u001b[0;34m\u001b[0m\u001b[0m\n\u001b[1;32m     10\u001b[0m   \u001b[0;32mraise\u001b[0m\u001b[0;34m\u001b[0m\u001b[0;34m\u001b[0m\u001b[0m\n",
            "\u001b[0;31mValueError\u001b[0m: "
          ]
        }
      ]
    },
    {
      "cell_type": "markdown",
      "source": [
        "Даже при исключении ресурс закрывается и мы не получаем утечку."
      ],
      "metadata": {
        "id": "C8wz7-OsbrQn"
      }
    },
    {
      "cell_type": "markdown",
      "source": [
        "#Как работает менеджер контекста `with`"
      ],
      "metadata": {
        "id": "87Zk3QndfRns"
      }
    },
    {
      "cell_type": "markdown",
      "source": [
        "Синтаксис оператора `with`"
      ],
      "metadata": {
        "id": "IgNaoQlhhY_8"
      }
    },
    {
      "cell_type": "code",
      "source": [
        "with EXPRESSION as TARGET:\n",
        "    SUITE"
      ],
      "metadata": {
        "id": "cZY54etFhV-Z"
      },
      "execution_count": null,
      "outputs": []
    },
    {
      "cell_type": "markdown",
      "source": [
        "\n",
        "\n",
        "Семантический эквивалентен:\n"
      ],
      "metadata": {
        "id": "hOFEn34zf14D"
      }
    },
    {
      "cell_type": "code",
      "source": [
        "manager = (EXPRESSION)\n",
        "enter = type(manager).__enter__\n",
        "exit = type(manager).__exit__\n",
        "value = enter(manager)\n",
        "hit_except = False\n",
        "\n",
        "try:\n",
        "    TARGET = value\n",
        "    SUITE\n",
        "except:\n",
        "    hit_except = True\n",
        "    if not exit(manager, *sys.exc_info()):\n",
        "        raise\n",
        "finally:\n",
        "    if not hit_except:\n",
        "        exit(manager, None, None, None)"
      ],
      "metadata": {
        "id": "AoYdDMjIhO6b"
      },
      "execution_count": null,
      "outputs": []
    },
    {
      "cell_type": "markdown",
      "source": [
        "Выражение `EXPRESSION`, непосредственно следующее за ключевым словом `with` является \"**выражением контекста**\", так как это выражение обеспечивает основной ключ к среде выполнения, которую менеджер контекста устанавливает для продолжительности тела выражения."
      ],
      "metadata": {
        "id": "0gjO0opqhe04"
      }
    },
    {
      "cell_type": "markdown",
      "source": [
        "\n",
        "\n",
        "1.   Выражение контекста (выражение, указанное в `EXPRESSION`) оценивается для получения менеджера контекста.\n",
        "\n",
        "2.   Менеджер контекста загружает метод `__enter__()` для последующего использования.\n",
        "3.   Менеджер контекста загружает метод `__exit__()` для последующего использования.\n",
        "4.   Менеджер контекста вызывает метод `__enter__()`.\n",
        "5.   Если `TARGET` была включена в оператор `with`, то ей присваивается возвращаемое значение из метода `__enter__()`.\n",
        "*Обратите внимание, что оператор `with` гарантирует, что если метод `__enter__()` возвращается без ошибки, то всегда будет вызываться метод `__exit__()`. Таким образом, если ошибка возникает во время присваивания значения через оператор `as`, то она будет обрабатываться так же, как и ошибка, возникающая внутри `with`.*\n",
        "\n",
        "\n",
        "6.   Последовательность команд выполнена.\n",
        "7.   Вызван метод `__exit__()`. Если исключение вызвало выход из последовательности команд, то его тип `exc_type`, значение `exc_val` и информация о трассировке `exc_tb` передаются в качестве аргументов `__exit__()`. В противном случае предоставляется три аргумента `None`.\n",
        "\n",
        "Если последовательность команд была завершена из-за исключения, а возвращаемое значение из метода `__exit__()` было `False`, то исключение вызывается повторно. \n",
        "\n",
        "Если возвращаемое значение было `True`, то исключение подавляется и выполнение продолжается с оператора, следующего за оператором `with`.\n",
        "\n",
        "Если последовательность команд была завершена по любой причине, кроме исключения, то возвращаемое значение из `__exit__()` игнорируется, и выполнение продолжается.\n",
        "\n",
        "При наличии нескольких контекстных менеджеров, они обрабатываются так, как если бы несколько операторов `with` были вложенными :"
      ],
      "metadata": {
        "id": "KkyEfAV2fYZK"
      }
    },
    {
      "cell_type": "code",
      "source": [
        "with A() as a, B() as b:\n",
        "    SUITE\n",
        "\n",
        "# Эквивалентно\n",
        "\n",
        "with A() as a:\n",
        "    with B() as b:\n",
        "        SUITE\n"
      ],
      "metadata": {
        "id": "6sSCM4nmfUT_"
      },
      "execution_count": null,
      "outputs": []
    },
    {
      "cell_type": "markdown",
      "source": [
        "# Протокол менеджера контекста"
      ],
      "metadata": {
        "id": "zTgwWC7jh_T1"
      }
    },
    {
      "cell_type": "markdown",
      "source": [
        "Создавать менеджеры контекста можно, чтобы самостоятельно управлять некоторыми ресурсами. **Одним из** способов создания является реализация методов для протокола менеджера контекста. Можете представить это себе как утиную типизацию  —  мы просто определим магические методы `__enter__` и `__exit__` без формального согласования протокола или реализации интерфейса. \n",
        "\n",
        "Следующий код демонстрирует эту концепцию:"
      ],
      "metadata": {
        "id": "fkpfMMQnjTiw"
      }
    },
    {
      "cell_type": "code",
      "source": [
        "class ContextManagerExample:\n",
        "  def __init__(self):\n",
        "    print(\"Менеджер создан\")\n",
        "\n",
        "  def __enter__(self):\n",
        "    print(\"Начать управление контекстом\")\n",
        " \n",
        "  def __exit__(self, exc_type, exc_val, exc_tb):\n",
        "    print(\"Завершить управление контекстом\")\n",
        "\n",
        "with ContextManagerExample():\n",
        "  print(\"Запуск операций в операторе with\")"
      ],
      "metadata": {
        "colab": {
          "base_uri": "https://localhost:8080/"
        },
        "id": "yqHBW1qejS_X",
        "outputId": "0bf6a95d-3062-4110-e332-bbd6d52a3b56"
      },
      "execution_count": 30,
      "outputs": [
        {
          "output_type": "stream",
          "name": "stdout",
          "text": [
            "Менеджер создан\n",
            "Начать управление контекстом\n",
            "Запуск операций в операторе with\n",
            "Завершить управление контекстом\n"
          ]
        }
      ]
    },
    {
      "cell_type": "markdown",
      "source": [
        "Как показано выше, мы просто определили класс, в котором реализованы методы `__enter__` и `__exit__`, **способные управлять контекстом за нас**. С синтаксической точки зрения, мы можем использовать этот класс в операторе `with`, что и было сделано.\n",
        "\n",
        "Выведенный текст показывает нам порядок, в котором эти операции хорошо координируются. В частности, созданный экземпляр вызовет метод `__enter__` для запуска контекста, затем мы сами выполняем операции, и, наконец, менеджер контекста выйдет из управления, вызвав метод `__exit__`."
      ],
      "metadata": {
        "id": "-Na6XrhNkdL0"
      }
    },
    {
      "cell_type": "markdown",
      "source": [
        "#Модуль contextlib"
      ],
      "metadata": {
        "id": "yMiEzi_pk7tT"
      }
    },
    {
      "cell_type": "markdown",
      "source": [
        "Вы обнаружите, что самостоятельная реализация специальных методов `__enter__` и `__exit__` для создания менеджера контекста может оказаться утомительной. С модулем **contextlib** в стандартной библиотеке Python намного проще управлять контекстом."
      ],
      "metadata": {
        "id": "KTdw_Ah3k-CY"
      }
    },
    {
      "cell_type": "markdown",
      "source": [
        "Python позволяет нам создать контекстный менеджер, используя функцию модуля **contextlib** под названием `contextmanager` в качестве **декоратора**. \n",
        "\n",
        "Контекстный менеджер который открывает и закрывает файл после проделанной в нем работе:"
      ],
      "metadata": {
        "id": "NnaZLyQWlxmd"
      }
    },
    {
      "cell_type": "code",
      "source": [
        "from contextlib import contextmanager\n",
        " \n",
        "@contextmanager\n",
        "def file_open(path):\n",
        "    try:\n",
        "        f_obj = open(path, 'w')\n",
        "        yield f_obj\n",
        "    except OSError:\n",
        "        print(\"We had an error!\")\n",
        "    finally:\n",
        "        print('Closing file')\n",
        "        f_obj.close()\n",
        " \n",
        " \n",
        "with file_open('test.txt') as fobj:\n",
        "  fobj.write('Testing context managers')"
      ],
      "metadata": {
        "colab": {
          "base_uri": "https://localhost:8080/"
        },
        "id": "pBJkW3Ebj2dP",
        "outputId": "bdfabc0e-f00d-4cd7-ab80-88d18f517b8a"
      },
      "execution_count": 35,
      "outputs": [
        {
          "output_type": "stream",
          "name": "stdout",
          "text": [
            "Closing file\n"
          ]
        }
      ]
    },
    {
      "cell_type": "markdown",
      "source": [
        "Здесь мы просто импортируем `contextmanager` из `contextlib` и декорируем нашу функцию `file_open` с ним. Это позволяет нам вызвать `file_open` используя оператор `with`. В нашей функции мы открываем файл, отдаем его, чтобы функция `calling` могла использовать его. После того, как оператор закончит, контроль возвращается обратно к функции `file_open`, которая продолжает следовать по коду за вызываемым оператором. Это приводит оператор `finally` к исполнению, благодаря которому и закрывается файл. Если возникла ошибка `OSError` во время работы с файлом, она будет выявлена и оператор `finally` закроет обработчик файлов несмотря на это."
      ],
      "metadata": {
        "id": "XTm1rX6bmR9i"
      }
    },
    {
      "cell_type": "markdown",
      "source": [
        "## contextlib.closing()"
      ],
      "metadata": {
        "id": "XFulctXEmh9z"
      }
    },
    {
      "cell_type": "markdown",
      "source": [
        "Модуль `contextlib` содержит несколько полезных утилит. \n",
        "\n",
        "Первая – это класс `closing`, который закроет объект по завершению определенного блока кода. В документации Python есть пример кода, похожий на следующий:"
      ],
      "metadata": {
        "id": "2PsphlCVmpW3"
      }
    },
    {
      "cell_type": "code",
      "source": [
        "from contextlib import contextmanager\n",
        " \n",
        "@contextmanager\n",
        "def closing(db):\n",
        "    try:\n",
        "        yield db.conn()\n",
        "    finally:\n",
        "        db.close()"
      ],
      "metadata": {
        "id": "CQKoekInmIOS"
      },
      "execution_count": 33,
      "outputs": []
    },
    {
      "cell_type": "markdown",
      "source": [
        "В целом, мы создаем **закрывающую функцию**, которая завернута в контекстный менеджер. Это эквивалент того, что делает **класс closing**. \n",
        "\n",
        "Но есть небольшая разница: вместо декоратора, мы можем использовать класс в нашем операторе `with` :"
      ],
      "metadata": {
        "id": "i2jkwvCDmyNQ"
      }
    },
    {
      "cell_type": "code",
      "source": [
        "from contextlib import closing\n",
        "from urllib.request import urlopen\n",
        " \n",
        "with closing(urlopen('http://www.google.com')) as webpage:\n",
        "    for line in webpage:\n",
        "        # обрабатываем строку...\n",
        "        pass"
      ],
      "metadata": {
        "id": "ck_-v2HCmwGy"
      },
      "execution_count": 34,
      "outputs": []
    },
    {
      "cell_type": "markdown",
      "source": [
        "В данном примере мы открыли страницу URL, но обернули её в наш класс `closing`. Это приведет к закрытию дескриптора веб-страницы, сразу после выхода из блока кода оператора `with`."
      ],
      "metadata": {
        "id": "MaSgIycknIlV"
      }
    },
    {
      "cell_type": "markdown",
      "source": [
        "## contextlib.suppress(*exceptions)"
      ],
      "metadata": {
        "id": "sQ9M6wAGqKNa"
      }
    },
    {
      "cell_type": "markdown",
      "source": [
        "Еще один полезный инструмент — класс `suppress`. Идея в том, что данная утилита контекстного менеджера **может подавлять любое количество исключений**. \n",
        "\n",
        "Скажем, нам нужно проигнорировать исключение `FileNotFoundError`. Если прописать следующий контекстный менеджер, то это не сработает:"
      ],
      "metadata": {
        "id": "r_k5LzlcqLw7"
      }
    },
    {
      "cell_type": "code",
      "source": [
        "with open('fauxfile.txt') as fobj:\n",
        "  for line in fobj:\n",
        "    print(line)"
      ],
      "metadata": {
        "colab": {
          "base_uri": "https://localhost:8080/",
          "height": 209
        },
        "id": "_L1psJMsnDph",
        "outputId": "081d84c9-0fc4-4d34-9d5d-04345559313b"
      },
      "execution_count": 36,
      "outputs": [
        {
          "output_type": "error",
          "ename": "FileNotFoundError",
          "evalue": "ignored",
          "traceback": [
            "\u001b[0;31m---------------------------------------------------------------------------\u001b[0m",
            "\u001b[0;31mFileNotFoundError\u001b[0m                         Traceback (most recent call last)",
            "\u001b[0;32m<ipython-input-36-2d06899f217b>\u001b[0m in \u001b[0;36m<module>\u001b[0;34m()\u001b[0m\n\u001b[0;32m----> 1\u001b[0;31m \u001b[0;32mwith\u001b[0m \u001b[0mopen\u001b[0m\u001b[0;34m(\u001b[0m\u001b[0;34m'fauxfile.txt'\u001b[0m\u001b[0;34m)\u001b[0m \u001b[0;32mas\u001b[0m \u001b[0mfobj\u001b[0m\u001b[0;34m:\u001b[0m\u001b[0;34m\u001b[0m\u001b[0;34m\u001b[0m\u001b[0m\n\u001b[0m\u001b[1;32m      2\u001b[0m   \u001b[0;32mfor\u001b[0m \u001b[0mline\u001b[0m \u001b[0;32min\u001b[0m \u001b[0mfobj\u001b[0m\u001b[0;34m:\u001b[0m\u001b[0;34m\u001b[0m\u001b[0;34m\u001b[0m\u001b[0m\n\u001b[1;32m      3\u001b[0m     \u001b[0mprint\u001b[0m\u001b[0;34m(\u001b[0m\u001b[0mline\u001b[0m\u001b[0;34m)\u001b[0m\u001b[0;34m\u001b[0m\u001b[0;34m\u001b[0m\u001b[0m\n",
            "\u001b[0;31mFileNotFoundError\u001b[0m: [Errno 2] No such file or directory: 'fauxfile.txt'"
          ]
        }
      ]
    },
    {
      "cell_type": "markdown",
      "source": [
        "Как видим, этот контекстный менеджер **не выполняет обработку данного исключения**. Если вам нужно проигнорировать эту ошибку, лучше напишите следующий код:"
      ],
      "metadata": {
        "id": "ejZ89MUjqj_H"
      }
    },
    {
      "cell_type": "code",
      "source": [
        "from contextlib import suppress\n",
        " \n",
        "with suppress(FileNotFoundError):\n",
        "  with open('fauxfile.txt') as fobj:\n",
        "    for line in fobj:\n",
        "      print(line)"
      ],
      "metadata": {
        "id": "U_uEZXwLqdXK"
      },
      "execution_count": 37,
      "outputs": []
    },
    {
      "cell_type": "markdown",
      "source": [
        "Здесь мы **импортируем `suppress`** и передаем его исключению **`FileNotFoundError`**. \n",
        "Если вы запустите этот код, вы увидите, что ничего не происходит, так как файл не существует, но и **ошибка не возникает**."
      ],
      "metadata": {
        "id": "Ye-EJYFCq69X"
      }
    },
    {
      "cell_type": "markdown",
      "source": [
        "## ExitStack"
      ],
      "metadata": {
        "id": "9lNHJqqxrNaV"
      }
    },
    {
      "cell_type": "markdown",
      "source": [
        "**ExitStack** – это контекстный менеджер, который позволит вам легко комбинировать другие контекстные менеджеры, а также функции очистки.\n",
        "\n",
        "Простой пример из документации Python:"
      ],
      "metadata": {
        "id": "ZCyvNHjKrPTP"
      }
    },
    {
      "cell_type": "code",
      "source": [
        "from contextlib import ExitStack\n",
        "\n",
        "with ExitStack as stack:\n",
        "  file_objects = [stack.enter_context(open(fname)) for filename in filenames]"
      ],
      "metadata": {
        "id": "qfokdAbQrZhq"
      },
      "execution_count": 41,
      "outputs": []
    },
    {
      "cell_type": "markdown",
      "source": [
        "Данный код создает серию контекстных менеджеров внутри списка. `ExitStack` поддерживает стек регистрируемых колбеков, которые **вызываются в обратом порядке** когда экземпляр закрыт, что и происходит, когда мы выходим из оператора `with`."
      ],
      "metadata": {
        "id": "EkI-0YkUr_uA"
      }
    },
    {
      "cell_type": "markdown",
      "source": [
        "## Реентерабельные контекстные менеджеры"
      ],
      "metadata": {
        "id": "n5tiMoHFsYrq"
      }
    },
    {
      "cell_type": "markdown",
      "source": [
        "Большая часть создаваемых вами контекстных менеджеров может быть написана только для использования с оператором `with` для **одноразового применения**."
      ],
      "metadata": {
        "id": "Vdm2WbHfsloT"
      }
    },
    {
      "cell_type": "code",
      "source": [
        "from contextlib import contextmanager\n",
        " \n",
        "@contextmanager\n",
        "def single():\n",
        "    print('Yielding')\n",
        "    yield\n",
        "    print('Exiting context manager')\n",
        " \n",
        "context = single()\n",
        "with context:\n",
        "    pass"
      ],
      "metadata": {
        "colab": {
          "base_uri": "https://localhost:8080/"
        },
        "id": "KrRSgjn8sqEN",
        "outputId": "440842e7-ab61-40fb-8d72-4d8e1c6980bc"
      },
      "execution_count": 42,
      "outputs": [
        {
          "output_type": "stream",
          "name": "stdout",
          "text": [
            "Yielding\n",
            "Exiting context manager\n"
          ]
        }
      ]
    },
    {
      "cell_type": "code",
      "source": [
        "with context:\n",
        "    pass"
      ],
      "metadata": {
        "colab": {
          "base_uri": "https://localhost:8080/",
          "height": 320
        },
        "id": "qqN6gKqXsx6a",
        "outputId": "17215e20-709f-4e8d-993c-a02678d220fe"
      },
      "execution_count": 43,
      "outputs": [
        {
          "output_type": "error",
          "ename": "AttributeError",
          "evalue": "ignored",
          "traceback": [
            "\u001b[0;31m---------------------------------------------------------------------------\u001b[0m",
            "\u001b[0;31mAttributeError\u001b[0m                            Traceback (most recent call last)",
            "\u001b[0;32m<ipython-input-43-3d41159ec5de>\u001b[0m in \u001b[0;36m<module>\u001b[0;34m()\u001b[0m\n\u001b[0;32m----> 1\u001b[0;31m \u001b[0;32mwith\u001b[0m \u001b[0mcontext\u001b[0m\u001b[0;34m:\u001b[0m\u001b[0;34m\u001b[0m\u001b[0;34m\u001b[0m\u001b[0m\n\u001b[0m\u001b[1;32m      2\u001b[0m     \u001b[0;32mpass\u001b[0m\u001b[0;34m\u001b[0m\u001b[0;34m\u001b[0m\u001b[0m\n",
            "\u001b[0;32m/usr/lib/python3.7/contextlib.py\u001b[0m in \u001b[0;36m__enter__\u001b[0;34m(self)\u001b[0m\n\u001b[1;32m    108\u001b[0m         \u001b[0;31m# do not keep args and kwds alive unnecessarily\u001b[0m\u001b[0;34m\u001b[0m\u001b[0;34m\u001b[0m\u001b[0;34m\u001b[0m\u001b[0m\n\u001b[1;32m    109\u001b[0m         \u001b[0;31m# they are only needed for recreation, which is not possible anymore\u001b[0m\u001b[0;34m\u001b[0m\u001b[0;34m\u001b[0m\u001b[0;34m\u001b[0m\u001b[0m\n\u001b[0;32m--> 110\u001b[0;31m         \u001b[0;32mdel\u001b[0m \u001b[0mself\u001b[0m\u001b[0;34m.\u001b[0m\u001b[0margs\u001b[0m\u001b[0;34m,\u001b[0m \u001b[0mself\u001b[0m\u001b[0;34m.\u001b[0m\u001b[0mkwds\u001b[0m\u001b[0;34m,\u001b[0m \u001b[0mself\u001b[0m\u001b[0;34m.\u001b[0m\u001b[0mfunc\u001b[0m\u001b[0;34m\u001b[0m\u001b[0;34m\u001b[0m\u001b[0m\n\u001b[0m\u001b[1;32m    111\u001b[0m         \u001b[0;32mtry\u001b[0m\u001b[0;34m:\u001b[0m\u001b[0;34m\u001b[0m\u001b[0;34m\u001b[0m\u001b[0m\n\u001b[1;32m    112\u001b[0m             \u001b[0;32mreturn\u001b[0m \u001b[0mnext\u001b[0m\u001b[0;34m(\u001b[0m\u001b[0mself\u001b[0m\u001b[0;34m.\u001b[0m\u001b[0mgen\u001b[0m\u001b[0;34m)\u001b[0m\u001b[0;34m\u001b[0m\u001b[0;34m\u001b[0m\u001b[0m\n",
            "\u001b[0;31mAttributeError\u001b[0m: args"
          ]
        }
      ]
    },
    {
      "cell_type": "markdown",
      "source": [
        "Здесь мы создали **экземпляр контекстного менеджера** и пытаемся запустить его дважды с оператором **`with`**. Второй запуск приводит к ошибке `RuntimeError`. \n",
        "\n",
        "Но что делать, если нам необходимо, чтобы контекстный менеджер запускался дважды? Для этой цели нам и нужен **реентрабельный контекстный менеджер**. \n",
        "\n",
        "Рассмотрим менеджер redirect_stdout, который будем использовать в данном примере."
      ],
      "metadata": {
        "id": "Lcfkis8esu9K"
      }
    },
    {
      "cell_type": "markdown",
      "source": [
        "### contextlib.redirect_stdout\n",
        "\n"
      ],
      "metadata": {
        "id": "hTSQ1v-HtmEz"
      }
    },
    {
      "cell_type": "markdown",
      "source": [
        "Библиотека contextlib содержит несколько замечательных инструментов для перенаправления stdout и stderr. \n",
        "\n",
        "До того, как эти инструменты появились, и когда вам нужно перенаправить stdout, вам нужно сделать что-то на подобии этого:"
      ],
      "metadata": {
        "id": "ikuLpAertoOD"
      }
    },
    {
      "cell_type": "code",
      "source": [
        "path = '/path/to/text.txt'\n",
        " \n",
        "with open(path, 'w') as fobj:\n",
        "    sys.stdout = fobj\n",
        "    help(sum)"
      ],
      "metadata": {
        "id": "e16W4-1Ptx7Z"
      },
      "execution_count": null,
      "outputs": []
    },
    {
      "cell_type": "markdown",
      "source": [
        "С модулем **`contextlib`** вы можете сделать следующее:"
      ],
      "metadata": {
        "id": "XSCrE-i_tzTf"
      }
    },
    {
      "cell_type": "code",
      "source": [
        "from contextlib import redirect_stdout\n",
        " \n",
        "path = '/path/to/text.txt'\n",
        "with open(path, 'w') as fobj:\n",
        "    with redirect_stdout(fobj):\n",
        "        help(redirect_stdout)"
      ],
      "metadata": {
        "id": "KjgtQKO_t6Ay"
      },
      "execution_count": null,
      "outputs": []
    },
    {
      "cell_type": "markdown",
      "source": [
        "В обоих примерах мы перенаправили `stdout` к файлу. Когда мы вызываем справку `Python`, вместо вывода в `stdout`, она сохраняется **непосредственно в файле**. Вы также можете перенаправить `stdout` в какой-нибудь буфер."
      ],
      "metadata": {
        "id": "zhWIlCyTs267"
      }
    },
    {
      "cell_type": "markdown",
      "source": [
        "После ознакомления с redirect_stdout, вернёмся к **реентрабельным контекстным менеджерам**."
      ],
      "metadata": {
        "id": "TJPrpNVluQjk"
      }
    },
    {
      "cell_type": "code",
      "source": [
        "from contextlib import redirect_stdout\n",
        "from io import StringIO\n",
        " \n",
        "stream = StringIO()\n",
        "write_to_stream = redirect_stdout(stream)\n",
        "with write_to_stream:\n",
        "    print('Write something to the stream')\n",
        "    with write_to_stream:\n",
        "        print('Write something else to stream')\n",
        " \n",
        "print(stream.getvalue())"
      ],
      "metadata": {
        "colab": {
          "base_uri": "https://localhost:8080/"
        },
        "id": "ayx7LWrUumQy",
        "outputId": "eb3dc929-1eb7-4749-f4d2-99a48d8f3a0a"
      },
      "execution_count": 44,
      "outputs": [
        {
          "output_type": "stream",
          "name": "stdout",
          "text": [
            "Write something to the stream\n",
            "Write something else to stream\n",
            "\n"
          ]
        }
      ]
    },
    {
      "cell_type": "markdown",
      "source": [
        "Здесь мы создали вложенные контекстные менеджеры, которые оба пишут в **`StringIO`**, который является **текстовым потоком в памяти**. \n",
        "\n",
        "Причина, по которой это работает, а не приводит к ошибке `RuntimeError`, как было ранее в том, что **`redirect_stdout` является реентрабельным** **и** **позволяет нам вызывать его дважды**."
      ],
      "metadata": {
        "id": "LjLg747duuWl"
      }
    }
  ]
}